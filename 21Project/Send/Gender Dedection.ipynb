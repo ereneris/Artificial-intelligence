{
 "cells": [
  {
   "cell_type": "code",
   "execution_count": null,
   "id": "fa986006",
   "metadata": {},
   "outputs": [],
   "source": []
  },
  {
   "cell_type": "code",
   "execution_count": 17,
   "id": "1d9b6a38",
   "metadata": {},
   "outputs": [],
   "source": [
    "import cv2\n",
    "import cvlib as cv\n",
    "import sys\n",
    "import numpy as np\n",
    "from numpy.lib.type_check import imag\n",
    "import matplotlib.pyplot as plt"
   ]
  },
  {
   "cell_type": "code",
   "execution_count": 23,
   "id": "edbae3c1",
   "metadata": {},
   "outputs": [
    {
     "name": "stdout",
     "output_type": "stream",
     "text": [
      " Volume in drive C is Windows\n",
      " Volume Serial Number is 088F-1ED4\n",
      "\n",
      " Directory of C:\\Users\\EREN\\Documents\\YapayZeka\\GitHub\\21Project\\Gender Dedection\n",
      "\n",
      "12/24/2023  07:39 PM    <DIR>          .\n",
      "12/24/2023  07:39 PM    <DIR>          ..\n",
      "12/24/2023  07:19 PM    <DIR>          .ipynb_checkpoints\n",
      "08/29/2019  11:34 PM             2,481 age_deploy.prototxt\n",
      "08/29/2019  11:29 PM        45,661,480 age_net.caffemodel\n",
      "12/24/2023  07:30 PM        86,389,424 drive-download-20231224T162849Z-001.zip\n",
      "12/24/2023  07:39 PM             9,484 Gender Dedection.ipynb\n",
      "08/29/2019  11:35 PM             2,482 gender_deploy.prototxt\n",
      "08/29/2019  11:31 PM        45,649,168 gender_net.caffemodel\n",
      "08/29/2019  11:37 PM            37,272 opencv_face_detector.pbtxt\n",
      "08/29/2019  11:35 PM         2,727,750 opencv_face_detector_uint8.pb\n",
      "               8 File(s)    180,479,541 bytes\n",
      "               3 Dir(s)  63,327,686,656 bytes free\n"
     ]
    }
   ],
   "source": [
    "ls"
   ]
  },
  {
   "cell_type": "code",
   "execution_count": 4,
   "id": "47317803",
   "metadata": {},
   "outputs": [],
   "source": [
    "cap = cv2.VideoCapture(0)\n",
    "if not cap.isOpened():\n",
    "    print(\"Cannot open camera\")\n",
    "    exit()"
   ]
  },
  {
   "cell_type": "code",
   "execution_count": 24,
   "id": "247e69e1",
   "metadata": {},
   "outputs": [
    {
     "ename": "error",
     "evalue": "OpenCV(4.8.1) D:\\a\\opencv-python\\opencv-python\\opencv\\modules\\dnn\\src\\caffe\\caffe_io.cpp:1126: error: (-2:Unspecified error) FAILED: fs.is_open(). Can't open \"opencv_face_detection_model.prototxt\" in function 'cv::dnn::ReadProtoFromTextFile'\n",
     "output_type": "error",
     "traceback": [
      "\u001b[1;31m---------------------------------------------------------------------------\u001b[0m",
      "\u001b[1;31merror\u001b[0m                                     Traceback (most recent call last)",
      "Cell \u001b[1;32mIn[24], line 4\u001b[0m\n\u001b[0;32m      2\u001b[0m face_prototxt_path \u001b[38;5;241m=\u001b[39m \u001b[38;5;124m'\u001b[39m\u001b[38;5;124mopencv_face_detection_model.prototxt\u001b[39m\u001b[38;5;124m'\u001b[39m\n\u001b[0;32m      3\u001b[0m face_caffemodel_path \u001b[38;5;241m=\u001b[39m \u001b[38;5;124m'\u001b[39m\u001b[38;5;124mopencv_face_detection_model.caffemodel\u001b[39m\u001b[38;5;124m'\u001b[39m\n\u001b[1;32m----> 4\u001b[0m face_net \u001b[38;5;241m=\u001b[39m \u001b[43mcv2\u001b[49m\u001b[38;5;241;43m.\u001b[39;49m\u001b[43mdnn\u001b[49m\u001b[38;5;241;43m.\u001b[39;49m\u001b[43mreadNetFromCaffe\u001b[49m\u001b[43m(\u001b[49m\u001b[43mface_prototxt_path\u001b[49m\u001b[43m,\u001b[49m\u001b[43m \u001b[49m\u001b[43mface_caffemodel_path\u001b[49m\u001b[43m)\u001b[49m\n\u001b[0;32m      6\u001b[0m \u001b[38;5;66;03m# Load the pre-trained age and gender prediction model\u001b[39;00m\n\u001b[0;32m      7\u001b[0m age_gender_prototxt_path \u001b[38;5;241m=\u001b[39m \u001b[38;5;124m'\u001b[39m\u001b[38;5;124mage_gender_model.prototxt\u001b[39m\u001b[38;5;124m'\u001b[39m\n",
      "\u001b[1;31merror\u001b[0m: OpenCV(4.8.1) D:\\a\\opencv-python\\opencv-python\\opencv\\modules\\dnn\\src\\caffe\\caffe_io.cpp:1126: error: (-2:Unspecified error) FAILED: fs.is_open(). Can't open \"opencv_face_detection_model.prototxt\" in function 'cv::dnn::ReadProtoFromTextFile'\n"
     ]
    }
   ],
   "source": [
    "# Load the pre-trained face detection model\n",
    "face_prototxt_path = 'opencv_face_detection_model.prototxt'\n",
    "face_caffemodel_path = 'opencv_face_detection_model.caffemodel'\n",
    "face_net = cv2.dnn.readNetFromCaffe(face_prototxt_path, face_caffemodel_path)\n",
    "\n",
    "# Load the pre-trained age and gender prediction model\n",
    "age_gender_prototxt_path = 'age_gender_model.prototxt'\n",
    "age_gender_caffemodel_path = 'age_gender_model.caffemodel'\n",
    "age_gender_net = cv2.dnn.readNetFromCaffe(age_gender_prototxt_path, age_gender_caffemodel_path)\n"
   ]
  },
  {
   "cell_type": "code",
   "execution_count": 14,
   "id": "fe674c33",
   "metadata": {},
   "outputs": [],
   "source": [
    "\n",
    "# Categories of distribution \n",
    "la = ['(0-2)', '(4-6)', '(8-12)', '(15-20)', \n",
    "      '(25-32)', '(38-43)', '(48-53)', '(60-100)'] \n",
    "lg = ['Male', 'Female'] "
   ]
  },
  {
   "cell_type": "code",
   "execution_count": 21,
   "id": "a14b788d",
   "metadata": {},
   "outputs": [
    {
     "ename": "AttributeError",
     "evalue": "'numpy.ndarray' object has no attribute 'forward'",
     "output_type": "error",
     "traceback": [
      "\u001b[1;31m---------------------------------------------------------------------------\u001b[0m",
      "\u001b[1;31mAttributeError\u001b[0m                            Traceback (most recent call last)",
      "Cell \u001b[1;32mIn[21], line 21\u001b[0m\n\u001b[0;32m     17\u001b[0m blob \u001b[38;5;241m=\u001b[39m cv2\u001b[38;5;241m.\u001b[39mdnn\u001b[38;5;241m.\u001b[39mblobFromImage(fr_cv, \u001b[38;5;241m1.0\u001b[39m, (\u001b[38;5;241m300\u001b[39m, \u001b[38;5;241m300\u001b[39m), \n\u001b[0;32m     18\u001b[0m                              [\u001b[38;5;241m104\u001b[39m, \u001b[38;5;241m117\u001b[39m, \u001b[38;5;241m123\u001b[39m], \u001b[38;5;28;01mTrue\u001b[39;00m, \u001b[38;5;28;01mFalse\u001b[39;00m) \n\u001b[0;32m     20\u001b[0m \u001b[38;5;66;03m#face.setInput(blob) \u001b[39;00m\n\u001b[1;32m---> 21\u001b[0m detections \u001b[38;5;241m=\u001b[39m \u001b[43mface\u001b[49m\u001b[38;5;241;43m.\u001b[39;49m\u001b[43mforward\u001b[49m()\n\u001b[0;32m     25\u001b[0m \u001b[38;5;66;03m# Face bounding box creation \u001b[39;00m\n\u001b[0;32m     26\u001b[0m faceBoxes \u001b[38;5;241m=\u001b[39m [] \n",
      "\u001b[1;31mAttributeError\u001b[0m: 'numpy.ndarray' object has no attribute 'forward'"
     ]
    }
   ],
   "source": [
    "while True:\n",
    "    # Capture frame-by-frame\n",
    "    ret, frame = cap.read()\n",
    "    \n",
    "    # if frame is read correctly ret is True\n",
    "    if not ret:\n",
    "        print(\"Can't receive frame (stream end?). Exiting ...\")\n",
    "        break\n",
    "\n",
    "    \n",
    "    # Copy image \n",
    "    fr_cv = frame.copy()\n",
    "\n",
    "    # Face detection \n",
    "    fr_h = fr_cv.shape[0] \n",
    "    fr_w = fr_cv.shape[1] \n",
    "    blob = cv2.dnn.blobFromImage(fr_cv, 1.0, (300, 300), \n",
    "                                 [104, 117, 123], True, False) \n",
    "\n",
    "    #face.setInput(blob) \n",
    "    detections = face.forward()\n",
    "    \n",
    "    \n",
    "    \n",
    "    # Face bounding box creation \n",
    "    faceBoxes = [] \n",
    "    for i in range(detections.shape[2]): \n",
    "\n",
    "        #Bounding box creation if confidence > 0.7 \n",
    "        confidence = detections[0, 0, i, 2] \n",
    "        if confidence > 0.7: \n",
    "\n",
    "            x1 = int(detections[0, 0, i, 3]*fr_w) \n",
    "            y1 = int(detections[0, 0, i, 4]*fr_h) \n",
    "            x2 = int(detections[0, 0, i, 5]*fr_w) \n",
    "            y2 = int(detections[0, 0, i, 6]*fr_h) \n",
    "\n",
    "            faceBoxes.append([x1, y1, x2, y2]) \n",
    "\n",
    "            cv2.rectangle(fr_cv, (x1, y1), (x2, y2), \n",
    "                          (0, 255, 0), int(round(fr_h/150)), 8) \n",
    "\n",
    "    # Checking if face detected or not \n",
    "    if not faceBoxes: \n",
    "        print(\"No face detected\") \n",
    "\n",
    "    # Final results (otherwise) \n",
    "    # Loop for all the faces detected \n",
    "    for faceBox in faceBoxes: \n",
    "\n",
    "        #Extracting face as per the faceBox \n",
    "        face = fr_cv[max(0, faceBox[1]-15): \n",
    "                     min(faceBox[3]+15, fr_cv.shape[0]-1), \n",
    "                     max(0, faceBox[0]-15):min(faceBox[2]+15, \n",
    "                                   fr_cv.shape[1]-1)] \n",
    "\n",
    "        #Extracting the main blob part \n",
    "        blob = cv2.dnn.blobFromImage( \n",
    "            face, 1.0, (227, 227), MODEL_MEAN_VALUES, swapRB=False) \n",
    "\n",
    "        #Prediction of gender \n",
    "        #gen.setInput(blob) \n",
    "        genderPreds = gen.forward() \n",
    "        gender = lg[genderPreds[0].argmax()] \n",
    "\n",
    "        #Prediction of age \n",
    "        age.setInput(blob) \n",
    "        agePreds = age.forward() \n",
    "        age = la[agePreds[0].argmax()] \n",
    "\n",
    "        #Putting text of age and gender  \n",
    "        #At the top of box \n",
    "        cv2.putText(fr_cv, \n",
    "                    f'{gender}, {age}', \n",
    "                    (faceBox[0]-150, faceBox[1]+10), \n",
    "                    cv2.FONT_HERSHEY_SIMPLEX, \n",
    "                    1.3, \n",
    "                    (217, 0, 0), \n",
    "                    4, \n",
    "                    cv2.LINE_AA) \n",
    "\n",
    "        plt.figure(figsize=(7, 7)) \n",
    "        plt.imshow(fr_cv)\n",
    "    \n",
    "    # Görüntüleme\n",
    "    cv2.imshow(\"Gender Detection\", frame)\n",
    "    if cv.waitKey(1) == ord('q'):\n",
    "        break\n",
    "# Kamera İşlemlerini Bitir\n",
    "cap.release() #Kamerayı Kapat\n",
    "cv.destroyAllWindows() #Formu Kapat"
   ]
  },
  {
   "cell_type": "code",
   "execution_count": null,
   "id": "c82c9e86",
   "metadata": {},
   "outputs": [],
   "source": []
  }
 ],
 "metadata": {
  "kernelspec": {
   "display_name": "Python 3 (ipykernel)",
   "language": "python",
   "name": "python3"
  },
  "language_info": {
   "codemirror_mode": {
    "name": "ipython",
    "version": 3
   },
   "file_extension": ".py",
   "mimetype": "text/x-python",
   "name": "python",
   "nbconvert_exporter": "python",
   "pygments_lexer": "ipython3",
   "version": "3.9.18"
  }
 },
 "nbformat": 4,
 "nbformat_minor": 5
}
